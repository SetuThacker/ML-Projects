{
 "cells": [
  {
   "cell_type": "code",
   "execution_count": 1,
   "metadata": {},
   "outputs": [],
   "source": [
    "import numpy as np\n",
    "import matplotlib.pyplot as plt\n",
    "import pandas as pd\n",
    " \n",
    "from sklearn.model_selection import train_test_split\n",
    "from sklearn.linear_model import LinearRegression,SGDRegressor\n",
    "from sklearn.preprocessing import PolynomialFeatures,StandardScaler\n",
    "from sklearn.metrics import r2_score\n",
    "from sklearn.pipeline import Pipeline"
   ]
  },
  {
   "cell_type": "markdown",
   "metadata": {},
   "source": [
    "https://www.youtube.com/watch?v=BNWLf3cKdbQ&t=715s"
   ]
  },
  {
   "cell_type": "code",
   "execution_count": 2,
   "metadata": {},
   "outputs": [
    {
     "data": {
      "text/html": [
       "<div>\n",
       "<style scoped>\n",
       "    .dataframe tbody tr th:only-of-type {\n",
       "        vertical-align: middle;\n",
       "    }\n",
       "\n",
       "    .dataframe tbody tr th {\n",
       "        vertical-align: top;\n",
       "    }\n",
       "\n",
       "    .dataframe thead th {\n",
       "        text-align: right;\n",
       "    }\n",
       "</style>\n",
       "<table border=\"1\" class=\"dataframe\">\n",
       "  <thead>\n",
       "    <tr style=\"text-align: right;\">\n",
       "      <th></th>\n",
       "      <th>density</th>\n",
       "      <th>bulk_modulus</th>\n",
       "      <th>speed</th>\n",
       "    </tr>\n",
       "  </thead>\n",
       "  <tbody>\n",
       "    <tr>\n",
       "      <th>0</th>\n",
       "      <td>818</td>\n",
       "      <td>1980000000</td>\n",
       "      <td>1449.28</td>\n",
       "    </tr>\n",
       "    <tr>\n",
       "      <th>1</th>\n",
       "      <td>1600</td>\n",
       "      <td>1870000000</td>\n",
       "      <td>1010.10</td>\n",
       "    </tr>\n",
       "    <tr>\n",
       "      <th>2</th>\n",
       "      <td>1830</td>\n",
       "      <td>2120000000</td>\n",
       "      <td>1002.51</td>\n",
       "    </tr>\n",
       "    <tr>\n",
       "      <th>3</th>\n",
       "      <td>1780</td>\n",
       "      <td>1720000000</td>\n",
       "      <td>919.54</td>\n",
       "    </tr>\n",
       "    <tr>\n",
       "      <th>4</th>\n",
       "      <td>1380</td>\n",
       "      <td>1780000000</td>\n",
       "      <td>1066.67</td>\n",
       "    </tr>\n",
       "    <tr>\n",
       "      <th>...</th>\n",
       "      <td>...</td>\n",
       "      <td>...</td>\n",
       "      <td>...</td>\n",
       "    </tr>\n",
       "    <tr>\n",
       "      <th>995</th>\n",
       "      <td>1900</td>\n",
       "      <td>1940000000</td>\n",
       "      <td>945.63</td>\n",
       "    </tr>\n",
       "    <tr>\n",
       "      <th>996</th>\n",
       "      <td>1200</td>\n",
       "      <td>1060000000</td>\n",
       "      <td>883.00</td>\n",
       "    </tr>\n",
       "    <tr>\n",
       "      <th>997</th>\n",
       "      <td>1820</td>\n",
       "      <td>2260000000</td>\n",
       "      <td>1041.67</td>\n",
       "    </tr>\n",
       "    <tr>\n",
       "      <th>998</th>\n",
       "      <td>1660</td>\n",
       "      <td>1940000000</td>\n",
       "      <td>1010.10</td>\n",
       "    </tr>\n",
       "    <tr>\n",
       "      <th>999</th>\n",
       "      <td>488</td>\n",
       "      <td>939000000</td>\n",
       "      <td>1294.50</td>\n",
       "    </tr>\n",
       "  </tbody>\n",
       "</table>\n",
       "<p>1000 rows × 3 columns</p>\n",
       "</div>"
      ],
      "text/plain": [
       "     density  bulk_modulus    speed\n",
       "0        818    1980000000  1449.28\n",
       "1       1600    1870000000  1010.10\n",
       "2       1830    2120000000  1002.51\n",
       "3       1780    1720000000   919.54\n",
       "4       1380    1780000000  1066.67\n",
       "..       ...           ...      ...\n",
       "995     1900    1940000000   945.63\n",
       "996     1200    1060000000   883.00\n",
       "997     1820    2260000000  1041.67\n",
       "998     1660    1940000000  1010.10\n",
       "999      488     939000000  1294.50\n",
       "\n",
       "[1000 rows x 3 columns]"
      ]
     },
     "execution_count": 2,
     "metadata": {},
     "output_type": "execute_result"
    }
   ],
   "source": [
    "df = pd.read_csv(r\"D:\\Coding\\Learn_Python\\Data\\Training_Dataset_ME5201.csv\")\n",
    "df"
   ]
  },
  {
   "cell_type": "code",
   "execution_count": 3,
   "metadata": {},
   "outputs": [],
   "source": [
    "X = df.iloc[:,:-1]\n",
    "y = df.iloc[:,2:]"
   ]
  },
  {
   "cell_type": "code",
   "execution_count": 4,
   "metadata": {},
   "outputs": [
    {
     "name": "stdout",
     "output_type": "stream",
     "text": [
      "800 200\n"
     ]
    }
   ],
   "source": [
    "X_train, X_test, y_train, y_test = train_test_split(X,y,test_size=0.2, random_state=42)\n",
    "print(len(X_train),len(X_test))"
   ]
  },
  {
   "cell_type": "code",
   "execution_count": 5,
   "metadata": {},
   "outputs": [],
   "source": [
    "from sklearn.preprocessing import MinMaxScaler\n",
    "scalar = MinMaxScaler()\n",
    "scalar.fit(X_train)\n",
    "X_train = scalar.transform(X_train)\n",
    "X_test = scalar.transform(X_test)"
   ]
  },
  {
   "cell_type": "code",
   "execution_count": 6,
   "metadata": {},
   "outputs": [
    {
     "data": {
      "text/html": [
       "<style>#sk-container-id-1 {color: black;}#sk-container-id-1 pre{padding: 0;}#sk-container-id-1 div.sk-toggleable {background-color: white;}#sk-container-id-1 label.sk-toggleable__label {cursor: pointer;display: block;width: 100%;margin-bottom: 0;padding: 0.3em;box-sizing: border-box;text-align: center;}#sk-container-id-1 label.sk-toggleable__label-arrow:before {content: \"▸\";float: left;margin-right: 0.25em;color: #696969;}#sk-container-id-1 label.sk-toggleable__label-arrow:hover:before {color: black;}#sk-container-id-1 div.sk-estimator:hover label.sk-toggleable__label-arrow:before {color: black;}#sk-container-id-1 div.sk-toggleable__content {max-height: 0;max-width: 0;overflow: hidden;text-align: left;background-color: #f0f8ff;}#sk-container-id-1 div.sk-toggleable__content pre {margin: 0.2em;color: black;border-radius: 0.25em;background-color: #f0f8ff;}#sk-container-id-1 input.sk-toggleable__control:checked~div.sk-toggleable__content {max-height: 200px;max-width: 100%;overflow: auto;}#sk-container-id-1 input.sk-toggleable__control:checked~label.sk-toggleable__label-arrow:before {content: \"▾\";}#sk-container-id-1 div.sk-estimator input.sk-toggleable__control:checked~label.sk-toggleable__label {background-color: #d4ebff;}#sk-container-id-1 div.sk-label input.sk-toggleable__control:checked~label.sk-toggleable__label {background-color: #d4ebff;}#sk-container-id-1 input.sk-hidden--visually {border: 0;clip: rect(1px 1px 1px 1px);clip: rect(1px, 1px, 1px, 1px);height: 1px;margin: -1px;overflow: hidden;padding: 0;position: absolute;width: 1px;}#sk-container-id-1 div.sk-estimator {font-family: monospace;background-color: #f0f8ff;border: 1px dotted black;border-radius: 0.25em;box-sizing: border-box;margin-bottom: 0.5em;}#sk-container-id-1 div.sk-estimator:hover {background-color: #d4ebff;}#sk-container-id-1 div.sk-parallel-item::after {content: \"\";width: 100%;border-bottom: 1px solid gray;flex-grow: 1;}#sk-container-id-1 div.sk-label:hover label.sk-toggleable__label {background-color: #d4ebff;}#sk-container-id-1 div.sk-serial::before {content: \"\";position: absolute;border-left: 1px solid gray;box-sizing: border-box;top: 0;bottom: 0;left: 50%;z-index: 0;}#sk-container-id-1 div.sk-serial {display: flex;flex-direction: column;align-items: center;background-color: white;padding-right: 0.2em;padding-left: 0.2em;position: relative;}#sk-container-id-1 div.sk-item {position: relative;z-index: 1;}#sk-container-id-1 div.sk-parallel {display: flex;align-items: stretch;justify-content: center;background-color: white;position: relative;}#sk-container-id-1 div.sk-item::before, #sk-container-id-1 div.sk-parallel-item::before {content: \"\";position: absolute;border-left: 1px solid gray;box-sizing: border-box;top: 0;bottom: 0;left: 50%;z-index: -1;}#sk-container-id-1 div.sk-parallel-item {display: flex;flex-direction: column;z-index: 1;position: relative;background-color: white;}#sk-container-id-1 div.sk-parallel-item:first-child::after {align-self: flex-end;width: 50%;}#sk-container-id-1 div.sk-parallel-item:last-child::after {align-self: flex-start;width: 50%;}#sk-container-id-1 div.sk-parallel-item:only-child::after {width: 0;}#sk-container-id-1 div.sk-dashed-wrapped {border: 1px dashed gray;margin: 0 0.4em 0.5em 0.4em;box-sizing: border-box;padding-bottom: 0.4em;background-color: white;}#sk-container-id-1 div.sk-label label {font-family: monospace;font-weight: bold;display: inline-block;line-height: 1.2em;}#sk-container-id-1 div.sk-label-container {text-align: center;}#sk-container-id-1 div.sk-container {/* jupyter's `normalize.less` sets `[hidden] { display: none; }` but bootstrap.min.css set `[hidden] { display: none !important; }` so we also need the `!important` here to be able to override the default hidden behavior on the sphinx rendered scikit-learn.org. See: https://github.com/scikit-learn/scikit-learn/issues/21755 */display: inline-block !important;position: relative;}#sk-container-id-1 div.sk-text-repr-fallback {display: none;}</style><div id=\"sk-container-id-1\" class=\"sk-top-container\"><div class=\"sk-text-repr-fallback\"><pre>LinearRegression()</pre><b>In a Jupyter environment, please rerun this cell to show the HTML representation or trust the notebook. <br />On GitHub, the HTML representation is unable to render, please try loading this page with nbviewer.org.</b></div><div class=\"sk-container\" hidden><div class=\"sk-item\"><div class=\"sk-estimator sk-toggleable\"><input class=\"sk-toggleable__control sk-hidden--visually\" id=\"sk-estimator-id-1\" type=\"checkbox\" checked><label for=\"sk-estimator-id-1\" class=\"sk-toggleable__label sk-toggleable__label-arrow\">LinearRegression</label><div class=\"sk-toggleable__content\"><pre>LinearRegression()</pre></div></div></div></div></div>"
      ],
      "text/plain": [
       "LinearRegression()"
      ]
     },
     "execution_count": 6,
     "metadata": {},
     "output_type": "execute_result"
    }
   ],
   "source": [
    "model = LinearRegression()\n",
    "model.fit(X_train,y_train)"
   ]
  },
  {
   "cell_type": "code",
   "execution_count": 7,
   "metadata": {},
   "outputs": [
    {
     "data": {
      "text/plain": [
       "array([[ 843.60481683],\n",
       "       [ 920.51406667],\n",
       "       [1230.71469984],\n",
       "       [ 990.77844778],\n",
       "       [1141.07483134],\n",
       "       [1609.3325164 ],\n",
       "       [1086.89821962],\n",
       "       [1240.61126767],\n",
       "       [1504.40953337],\n",
       "       [1198.01606115],\n",
       "       [1008.45917883],\n",
       "       [1326.32494768],\n",
       "       [ 931.90701161],\n",
       "       [ 887.68648149],\n",
       "       [1063.87427466],\n",
       "       [1117.8488502 ],\n",
       "       [1290.96714253],\n",
       "       [1175.22025232],\n",
       "       [1001.99285141],\n",
       "       [1192.94065922],\n",
       "       [1369.20780408],\n",
       "       [ 923.79186571],\n",
       "       [ 770.05271772],\n",
       "       [ 990.45112205],\n",
       "       [1618.97623426],\n",
       "       [1165.34717936],\n",
       "       [1564.42148302],\n",
       "       [1067.36037189],\n",
       "       [1262.51575605],\n",
       "       [ 895.93057389],\n",
       "       [1165.91865508],\n",
       "       [1390.63374434],\n",
       "       [1472.6196151 ],\n",
       "       [1462.95605932],\n",
       "       [ 959.39138289],\n",
       "       [1538.06892524],\n",
       "       [1305.77797095],\n",
       "       [ 980.92521275],\n",
       "       [ 987.36178328],\n",
       "       [ 959.35170704],\n",
       "       [1257.68954713],\n",
       "       [1013.21221453],\n",
       "       [1016.49497304],\n",
       "       [ 930.03005702],\n",
       "       [1611.82062256],\n",
       "       [ 766.90386518],\n",
       "       [1444.33928894],\n",
       "       [1456.20086303],\n",
       "       [1240.9311124 ],\n",
       "       [1366.92921509],\n",
       "       [ 907.17473441],\n",
       "       [1203.48439751],\n",
       "       [ 850.05130633],\n",
       "       [ 980.80618521],\n",
       "       [1093.38438496],\n",
       "       [1166.82737549],\n",
       "       [1439.63088857],\n",
       "       [1188.79381561],\n",
       "       [ 752.17360744],\n",
       "       [1042.71736534],\n",
       "       [1094.33521919],\n",
       "       [ 971.20092421],\n",
       "       [1215.45629917],\n",
       "       [1167.58731148],\n",
       "       [ 877.93243607],\n",
       "       [ 624.76596033],\n",
       "       [1310.57442298],\n",
       "       [ 793.05682475],\n",
       "       [1356.88508182],\n",
       "       [1091.64629583],\n",
       "       [1087.08667988],\n",
       "       [1668.79404724],\n",
       "       [ 954.51436018],\n",
       "       [ 967.48669087],\n",
       "       [ 841.8667277 ],\n",
       "       [ 750.61405961],\n",
       "       [ 695.03034144],\n",
       "       [1335.97980349],\n",
       "       [1149.03753586],\n",
       "       [1075.36640922],\n",
       "       [ 722.72301091],\n",
       "       [1512.29532418],\n",
       "       [1382.45786569],\n",
       "       [1263.30544892],\n",
       "       [ 655.79594261],\n",
       "       [1535.73952246],\n",
       "       [1026.58626315],\n",
       "       [ 752.13393159],\n",
       "       [1308.546246  ],\n",
       "       [1428.57884528],\n",
       "       [ 848.63062396],\n",
       "       [ 622.750678  ],\n",
       "       [1355.59578392],\n",
       "       [1119.53734453],\n",
       "       [1422.72245044],\n",
       "       [1197.62800267],\n",
       "       [1233.8040386 ],\n",
       "       [ 814.27324784],\n",
       "       [1086.78911104],\n",
       "       [1026.69537173],\n",
       "       [1024.93744467],\n",
       "       [1283.91315841],\n",
       "       [1041.14789855],\n",
       "       [1474.06013539],\n",
       "       [ 965.96681889],\n",
       "       [1158.8907709 ],\n",
       "       [1440.29163495],\n",
       "       [1243.64735468],\n",
       "       [ 645.62087905],\n",
       "       [1270.63090195],\n",
       "       [1132.67829756],\n",
       "       [ 758.61017798],\n",
       "       [1131.22655578],\n",
       "       [ 606.78766043],\n",
       "       [1333.52893521],\n",
       "       [1461.32707876],\n",
       "       [1420.08312189],\n",
       "       [1240.80094692],\n",
       "       [1102.71939603],\n",
       "       [1127.22353712],\n",
       "       [1008.70715287],\n",
       "       [ 928.66888842],\n",
       "       [1021.45134745],\n",
       "       [1042.84631184],\n",
       "       [ 925.25222392],\n",
       "       [ 998.58610588],\n",
       "       [ 899.04966954],\n",
       "       [ 913.78984625],\n",
       "       [1243.77630118],\n",
       "       [ 944.79007164],\n",
       "       [1005.41943487],\n",
       "       [1126.2218891 ],\n",
       "       [ 961.03028241],\n",
       "       [ 909.06160796],\n",
       "       [1096.59275127],\n",
       "       [ 940.05191439],\n",
       "       [ 923.77202778],\n",
       "       [1298.44381794],\n",
       "       [1085.22956321],\n",
       "       [ 779.8960338 ],\n",
       "       [1374.33280083],\n",
       "       [ 837.06905668],\n",
       "       [1212.58761552],\n",
       "       [1183.87711706],\n",
       "       [ 912.15094673],\n",
       "       [1550.01107001],\n",
       "       [1421.41331462],\n",
       "       [ 797.99336123],\n",
       "       [1127.5830577 ],\n",
       "       [ 894.07345722],\n",
       "       [ 969.42315923],\n",
       "       [ 944.67104411],\n",
       "       [1490.68840464],\n",
       "       [1034.62205736],\n",
       "       [1129.58666437],\n",
       "       [1351.06836283],\n",
       "       [1226.89883891],\n",
       "       [ 919.50836752],\n",
       "       [1262.00745105],\n",
       "       [1090.2156945 ],\n",
       "       [ 762.0466804 ],\n",
       "       [ 997.13566663],\n",
       "       [1569.77827283],\n",
       "       [1349.9104494 ],\n",
       "       [1222.51028328],\n",
       "       [1403.50566643],\n",
       "       [ 925.2819808 ],\n",
       "       [ 825.69594966],\n",
       "       [1116.27938341],\n",
       "       [1569.48818498],\n",
       "       [ 830.51345861],\n",
       "       [1401.43659462],\n",
       "       [1039.43956631],\n",
       "       [ 686.89535762],\n",
       "       [1229.14690621],\n",
       "       [ 859.8946224 ],\n",
       "       [1310.68353156],\n",
       "       [ 743.99894777],\n",
       "       [1116.38849199],\n",
       "       [1148.79948079],\n",
       "       [1322.71860393],\n",
       "       [1252.48794729],\n",
       "       [1231.59610133],\n",
       "       [1279.51468382],\n",
       "       [ 943.2602807 ],\n",
       "       [1213.96663824],\n",
       "       [1106.53525695],\n",
       "       [ 799.42396256],\n",
       "       [1194.66882939],\n",
       "       [1201.92606867],\n",
       "       [1417.9049415 ],\n",
       "       [ 946.52816078],\n",
       "       [1096.5332375 ],\n",
       "       [1129.36082268],\n",
       "       [1428.56892631],\n",
       "       [ 879.6705252 ],\n",
       "       [ 913.98822548],\n",
       "       [1450.90480597],\n",
       "       [1121.76061442],\n",
       "       [1374.36255771]])"
      ]
     },
     "execution_count": 7,
     "metadata": {},
     "output_type": "execute_result"
    }
   ],
   "source": [
    "y_predict = model.predict(X_test)\n",
    "y_predict"
   ]
  },
  {
   "cell_type": "code",
   "execution_count": 8,
   "metadata": {},
   "outputs": [
    {
     "name": "stdout",
     "output_type": "stream",
     "text": [
      "19581.51316196561\n",
      "65.93248602236183\n",
      "0.7636217740605951\n"
     ]
    }
   ],
   "source": [
    "from sklearn.metrics import mean_absolute_error,mean_squared_error, r2_score\n",
    "mse1= mean_squared_error(y_train,model.predict(X_train))\n",
    "mae1= mean_absolute_error(y_train,model.predict(X_train))\n",
    "raq1 = r2_score(y_train, model.predict(X_train))\n",
    "print(mse1)\n",
    "print(mae1)\n",
    "print(raq1)"
   ]
  },
  {
   "cell_type": "code",
   "execution_count": 9,
   "metadata": {},
   "outputs": [
    {
     "name": "stdout",
     "output_type": "stream",
     "text": [
      "5428.169870187041\n",
      "56.75077145048133\n",
      "0.9182581572231903\n"
     ]
    }
   ],
   "source": [
    "mse2= mean_squared_error(y_test,model.predict(X_test))\n",
    "mae2= mean_absolute_error(y_test,model.predict(X_test))\n",
    "raq2 = r2_score(y_test, model.predict(X_test))\n",
    "print(mse2)\n",
    "print(mae2)\n",
    "print(raq2)"
   ]
  },
  {
   "cell_type": "code",
   "execution_count": 10,
   "metadata": {},
   "outputs": [
    {
     "name": "stdout",
     "output_type": "stream",
     "text": [
      "[[-753.13716535  450.64066245]] [1280.23318726]\n"
     ]
    }
   ],
   "source": [
    "print(model.coef_, model.intercept_)"
   ]
  },
  {
   "cell_type": "markdown",
   "metadata": {},
   "source": [
    "# Let's go  with Polynomial Regression"
   ]
  },
  {
   "cell_type": "code",
   "execution_count": 21,
   "metadata": {},
   "outputs": [],
   "source": [
    "poly = PolynomialFeatures(degree=3, include_bias=True)\n",
    "\n",
    "X_train_trans = poly.fit_transform(X_train)\n",
    "X_test_trans = poly.transform(X_test)"
   ]
  },
  {
   "cell_type": "code",
   "execution_count": 22,
   "metadata": {},
   "outputs": [
    {
     "name": "stdout",
     "output_type": "stream",
     "text": [
      "[0.14629389 0.1515591 ]\n",
      "[1.         0.14629389 0.1515591  0.0214019  0.02217217 0.02297016\n",
      " 0.00313097 0.00324365 0.00336039 0.00348134]\n"
     ]
    }
   ],
   "source": [
    "print(X_train[0])\n",
    "print(X_train_trans[0])"
   ]
  },
  {
   "cell_type": "code",
   "execution_count": 23,
   "metadata": {},
   "outputs": [
    {
     "data": {
      "text/html": [
       "<style>#sk-container-id-3 {color: black;}#sk-container-id-3 pre{padding: 0;}#sk-container-id-3 div.sk-toggleable {background-color: white;}#sk-container-id-3 label.sk-toggleable__label {cursor: pointer;display: block;width: 100%;margin-bottom: 0;padding: 0.3em;box-sizing: border-box;text-align: center;}#sk-container-id-3 label.sk-toggleable__label-arrow:before {content: \"▸\";float: left;margin-right: 0.25em;color: #696969;}#sk-container-id-3 label.sk-toggleable__label-arrow:hover:before {color: black;}#sk-container-id-3 div.sk-estimator:hover label.sk-toggleable__label-arrow:before {color: black;}#sk-container-id-3 div.sk-toggleable__content {max-height: 0;max-width: 0;overflow: hidden;text-align: left;background-color: #f0f8ff;}#sk-container-id-3 div.sk-toggleable__content pre {margin: 0.2em;color: black;border-radius: 0.25em;background-color: #f0f8ff;}#sk-container-id-3 input.sk-toggleable__control:checked~div.sk-toggleable__content {max-height: 200px;max-width: 100%;overflow: auto;}#sk-container-id-3 input.sk-toggleable__control:checked~label.sk-toggleable__label-arrow:before {content: \"▾\";}#sk-container-id-3 div.sk-estimator input.sk-toggleable__control:checked~label.sk-toggleable__label {background-color: #d4ebff;}#sk-container-id-3 div.sk-label input.sk-toggleable__control:checked~label.sk-toggleable__label {background-color: #d4ebff;}#sk-container-id-3 input.sk-hidden--visually {border: 0;clip: rect(1px 1px 1px 1px);clip: rect(1px, 1px, 1px, 1px);height: 1px;margin: -1px;overflow: hidden;padding: 0;position: absolute;width: 1px;}#sk-container-id-3 div.sk-estimator {font-family: monospace;background-color: #f0f8ff;border: 1px dotted black;border-radius: 0.25em;box-sizing: border-box;margin-bottom: 0.5em;}#sk-container-id-3 div.sk-estimator:hover {background-color: #d4ebff;}#sk-container-id-3 div.sk-parallel-item::after {content: \"\";width: 100%;border-bottom: 1px solid gray;flex-grow: 1;}#sk-container-id-3 div.sk-label:hover label.sk-toggleable__label {background-color: #d4ebff;}#sk-container-id-3 div.sk-serial::before {content: \"\";position: absolute;border-left: 1px solid gray;box-sizing: border-box;top: 0;bottom: 0;left: 50%;z-index: 0;}#sk-container-id-3 div.sk-serial {display: flex;flex-direction: column;align-items: center;background-color: white;padding-right: 0.2em;padding-left: 0.2em;position: relative;}#sk-container-id-3 div.sk-item {position: relative;z-index: 1;}#sk-container-id-3 div.sk-parallel {display: flex;align-items: stretch;justify-content: center;background-color: white;position: relative;}#sk-container-id-3 div.sk-item::before, #sk-container-id-3 div.sk-parallel-item::before {content: \"\";position: absolute;border-left: 1px solid gray;box-sizing: border-box;top: 0;bottom: 0;left: 50%;z-index: -1;}#sk-container-id-3 div.sk-parallel-item {display: flex;flex-direction: column;z-index: 1;position: relative;background-color: white;}#sk-container-id-3 div.sk-parallel-item:first-child::after {align-self: flex-end;width: 50%;}#sk-container-id-3 div.sk-parallel-item:last-child::after {align-self: flex-start;width: 50%;}#sk-container-id-3 div.sk-parallel-item:only-child::after {width: 0;}#sk-container-id-3 div.sk-dashed-wrapped {border: 1px dashed gray;margin: 0 0.4em 0.5em 0.4em;box-sizing: border-box;padding-bottom: 0.4em;background-color: white;}#sk-container-id-3 div.sk-label label {font-family: monospace;font-weight: bold;display: inline-block;line-height: 1.2em;}#sk-container-id-3 div.sk-label-container {text-align: center;}#sk-container-id-3 div.sk-container {/* jupyter's `normalize.less` sets `[hidden] { display: none; }` but bootstrap.min.css set `[hidden] { display: none !important; }` so we also need the `!important` here to be able to override the default hidden behavior on the sphinx rendered scikit-learn.org. See: https://github.com/scikit-learn/scikit-learn/issues/21755 */display: inline-block !important;position: relative;}#sk-container-id-3 div.sk-text-repr-fallback {display: none;}</style><div id=\"sk-container-id-3\" class=\"sk-top-container\"><div class=\"sk-text-repr-fallback\"><pre>LinearRegression()</pre><b>In a Jupyter environment, please rerun this cell to show the HTML representation or trust the notebook. <br />On GitHub, the HTML representation is unable to render, please try loading this page with nbviewer.org.</b></div><div class=\"sk-container\" hidden><div class=\"sk-item\"><div class=\"sk-estimator sk-toggleable\"><input class=\"sk-toggleable__control sk-hidden--visually\" id=\"sk-estimator-id-3\" type=\"checkbox\" checked><label for=\"sk-estimator-id-3\" class=\"sk-toggleable__label sk-toggleable__label-arrow\">LinearRegression</label><div class=\"sk-toggleable__content\"><pre>LinearRegression()</pre></div></div></div></div></div>"
      ],
      "text/plain": [
       "LinearRegression()"
      ]
     },
     "execution_count": 23,
     "metadata": {},
     "output_type": "execute_result"
    }
   ],
   "source": [
    "model_p = LinearRegression()\n",
    "model_p.fit(X_train_trans,y_train)"
   ]
  },
  {
   "cell_type": "code",
   "execution_count": 24,
   "metadata": {},
   "outputs": [],
   "source": [
    "y_pred = model_p.predict(X_test_trans)"
   ]
  },
  {
   "cell_type": "code",
   "execution_count": 25,
   "metadata": {},
   "outputs": [
    {
     "data": {
      "text/plain": [
       "1.0"
      ]
     },
     "execution_count": 25,
     "metadata": {},
     "output_type": "execute_result"
    }
   ],
   "source": [
    "model_p.score(X_test_trans,y_pred)"
   ]
  },
  {
   "cell_type": "code",
   "execution_count": 26,
   "metadata": {},
   "outputs": [
    {
     "data": {
      "text/plain": [
       "0.9813454792232775"
      ]
     },
     "execution_count": 26,
     "metadata": {},
     "output_type": "execute_result"
    }
   ],
   "source": [
    "r2_score(y_test,y_pred)"
   ]
  },
  {
   "cell_type": "code",
   "execution_count": 27,
   "metadata": {},
   "outputs": [
    {
     "name": "stdout",
     "output_type": "stream",
     "text": [
      "[[    0.         -1752.49459611   690.70488787  1820.9157571\n",
      "  -1070.24758585   529.04829022  -446.80687583  -372.13450059\n",
      "    904.57295811  -615.20094973]]\n",
      "[1320.5732831]\n"
     ]
    }
   ],
   "source": [
    "print(model_p.coef_)\n",
    "print(model_p.intercept_)"
   ]
  },
  {
   "cell_type": "code",
   "execution_count": 28,
   "metadata": {},
   "outputs": [
    {
     "ename": "ValueError",
     "evalue": "X has 1 features, but PolynomialFeatures is expecting 2 features as input.",
     "output_type": "error",
     "traceback": [
      "\u001b[1;31m---------------------------------------------------------------------------\u001b[0m",
      "\u001b[1;31mValueError\u001b[0m                                Traceback (most recent call last)",
      "\u001b[1;32md:\\Coding\\Learn_Python\\Python Notebook\\Polynomial_2D_Regression.ipynb Cell 20\u001b[0m line \u001b[0;36m2\n\u001b[0;32m      <a href='vscode-notebook-cell:/d%3A/Coding/Learn_Python/Python%20Notebook/Polynomial_2D_Regression.ipynb#X25sZmlsZQ%3D%3D?line=0'>1</a>\u001b[0m X_new \u001b[39m=\u001b[39m np\u001b[39m.\u001b[39mlinspace(\u001b[39m-\u001b[39m\u001b[39m3\u001b[39m,\u001b[39m3\u001b[39m,\u001b[39m200\u001b[39m)\u001b[39m.\u001b[39mreshape(\u001b[39m200\u001b[39m,\u001b[39m1\u001b[39m)\n\u001b[1;32m----> <a href='vscode-notebook-cell:/d%3A/Coding/Learn_Python/Python%20Notebook/Polynomial_2D_Regression.ipynb#X25sZmlsZQ%3D%3D?line=1'>2</a>\u001b[0m X_new_poly \u001b[39m=\u001b[39m poly\u001b[39m.\u001b[39;49mtransform(X_new)\n\u001b[0;32m      <a href='vscode-notebook-cell:/d%3A/Coding/Learn_Python/Python%20Notebook/Polynomial_2D_Regression.ipynb#X25sZmlsZQ%3D%3D?line=2'>3</a>\u001b[0m y_new \u001b[39m=\u001b[39m model_p\u001b[39m.\u001b[39mpredict(X_new_poly)\n",
      "File \u001b[1;32mc:\\Users\\setuthacker\\AppData\\Local\\Programs\\Python\\Python312\\Lib\\site-packages\\sklearn\\utils\\_set_output.py:157\u001b[0m, in \u001b[0;36m_wrap_method_output.<locals>.wrapped\u001b[1;34m(self, X, *args, **kwargs)\u001b[0m\n\u001b[0;32m    155\u001b[0m \u001b[39m@wraps\u001b[39m(f)\n\u001b[0;32m    156\u001b[0m \u001b[39mdef\u001b[39;00m \u001b[39mwrapped\u001b[39m(\u001b[39mself\u001b[39m, X, \u001b[39m*\u001b[39margs, \u001b[39m*\u001b[39m\u001b[39m*\u001b[39mkwargs):\n\u001b[1;32m--> 157\u001b[0m     data_to_wrap \u001b[39m=\u001b[39m f(\u001b[39mself\u001b[39;49m, X, \u001b[39m*\u001b[39;49margs, \u001b[39m*\u001b[39;49m\u001b[39m*\u001b[39;49mkwargs)\n\u001b[0;32m    158\u001b[0m     \u001b[39mif\u001b[39;00m \u001b[39misinstance\u001b[39m(data_to_wrap, \u001b[39mtuple\u001b[39m):\n\u001b[0;32m    159\u001b[0m         \u001b[39m# only wrap the first output for cross decomposition\u001b[39;00m\n\u001b[0;32m    160\u001b[0m         return_tuple \u001b[39m=\u001b[39m (\n\u001b[0;32m    161\u001b[0m             _wrap_data_with_container(method, data_to_wrap[\u001b[39m0\u001b[39m], X, \u001b[39mself\u001b[39m),\n\u001b[0;32m    162\u001b[0m             \u001b[39m*\u001b[39mdata_to_wrap[\u001b[39m1\u001b[39m:],\n\u001b[0;32m    163\u001b[0m         )\n",
      "File \u001b[1;32mc:\\Users\\setuthacker\\AppData\\Local\\Programs\\Python\\Python312\\Lib\\site-packages\\sklearn\\preprocessing\\_polynomial.py:432\u001b[0m, in \u001b[0;36mPolynomialFeatures.transform\u001b[1;34m(self, X)\u001b[0m\n\u001b[0;32m    402\u001b[0m \u001b[39m\u001b[39m\u001b[39m\"\"\"Transform data to polynomial features.\u001b[39;00m\n\u001b[0;32m    403\u001b[0m \n\u001b[0;32m    404\u001b[0m \u001b[39mParameters\u001b[39;00m\n\u001b[1;32m   (...)\u001b[0m\n\u001b[0;32m    428\u001b[0m \u001b[39m    `csr_matrix`.\u001b[39;00m\n\u001b[0;32m    429\u001b[0m \u001b[39m\"\"\"\u001b[39;00m\n\u001b[0;32m    430\u001b[0m check_is_fitted(\u001b[39mself\u001b[39m)\n\u001b[1;32m--> 432\u001b[0m X \u001b[39m=\u001b[39m \u001b[39mself\u001b[39;49m\u001b[39m.\u001b[39;49m_validate_data(\n\u001b[0;32m    433\u001b[0m     X, order\u001b[39m=\u001b[39;49m\u001b[39m\"\u001b[39;49m\u001b[39mF\u001b[39;49m\u001b[39m\"\u001b[39;49m, dtype\u001b[39m=\u001b[39;49mFLOAT_DTYPES, reset\u001b[39m=\u001b[39;49m\u001b[39mFalse\u001b[39;49;00m, accept_sparse\u001b[39m=\u001b[39;49m(\u001b[39m\"\u001b[39;49m\u001b[39mcsr\u001b[39;49m\u001b[39m\"\u001b[39;49m, \u001b[39m\"\u001b[39;49m\u001b[39mcsc\u001b[39;49m\u001b[39m\"\u001b[39;49m)\n\u001b[0;32m    434\u001b[0m )\n\u001b[0;32m    436\u001b[0m n_samples, n_features \u001b[39m=\u001b[39m X\u001b[39m.\u001b[39mshape\n\u001b[0;32m    437\u001b[0m max_int32 \u001b[39m=\u001b[39m np\u001b[39m.\u001b[39miinfo(np\u001b[39m.\u001b[39mint32)\u001b[39m.\u001b[39mmax\n",
      "File \u001b[1;32mc:\\Users\\setuthacker\\AppData\\Local\\Programs\\Python\\Python312\\Lib\\site-packages\\sklearn\\base.py:626\u001b[0m, in \u001b[0;36mBaseEstimator._validate_data\u001b[1;34m(self, X, y, reset, validate_separately, cast_to_ndarray, **check_params)\u001b[0m\n\u001b[0;32m    623\u001b[0m     out \u001b[39m=\u001b[39m X, y\n\u001b[0;32m    625\u001b[0m \u001b[39mif\u001b[39;00m \u001b[39mnot\u001b[39;00m no_val_X \u001b[39mand\u001b[39;00m check_params\u001b[39m.\u001b[39mget(\u001b[39m\"\u001b[39m\u001b[39mensure_2d\u001b[39m\u001b[39m\"\u001b[39m, \u001b[39mTrue\u001b[39;00m):\n\u001b[1;32m--> 626\u001b[0m     \u001b[39mself\u001b[39;49m\u001b[39m.\u001b[39;49m_check_n_features(X, reset\u001b[39m=\u001b[39;49mreset)\n\u001b[0;32m    628\u001b[0m \u001b[39mreturn\u001b[39;00m out\n",
      "File \u001b[1;32mc:\\Users\\setuthacker\\AppData\\Local\\Programs\\Python\\Python312\\Lib\\site-packages\\sklearn\\base.py:415\u001b[0m, in \u001b[0;36mBaseEstimator._check_n_features\u001b[1;34m(self, X, reset)\u001b[0m\n\u001b[0;32m    412\u001b[0m     \u001b[39mreturn\u001b[39;00m\n\u001b[0;32m    414\u001b[0m \u001b[39mif\u001b[39;00m n_features \u001b[39m!=\u001b[39m \u001b[39mself\u001b[39m\u001b[39m.\u001b[39mn_features_in_:\n\u001b[1;32m--> 415\u001b[0m     \u001b[39mraise\u001b[39;00m \u001b[39mValueError\u001b[39;00m(\n\u001b[0;32m    416\u001b[0m         \u001b[39mf\u001b[39m\u001b[39m\"\u001b[39m\u001b[39mX has \u001b[39m\u001b[39m{\u001b[39;00mn_features\u001b[39m}\u001b[39;00m\u001b[39m features, but \u001b[39m\u001b[39m{\u001b[39;00m\u001b[39mself\u001b[39m\u001b[39m.\u001b[39m\u001b[39m__class__\u001b[39m\u001b[39m.\u001b[39m\u001b[39m__name__\u001b[39m\u001b[39m}\u001b[39;00m\u001b[39m \u001b[39m\u001b[39m\"\u001b[39m\n\u001b[0;32m    417\u001b[0m         \u001b[39mf\u001b[39m\u001b[39m\"\u001b[39m\u001b[39mis expecting \u001b[39m\u001b[39m{\u001b[39;00m\u001b[39mself\u001b[39m\u001b[39m.\u001b[39mn_features_in_\u001b[39m}\u001b[39;00m\u001b[39m features as input.\u001b[39m\u001b[39m\"\u001b[39m\n\u001b[0;32m    418\u001b[0m     )\n",
      "\u001b[1;31mValueError\u001b[0m: X has 1 features, but PolynomialFeatures is expecting 2 features as input."
     ]
    }
   ],
   "source": [
    "X_new = np.linspace(-3,3,200).reshape(200,1)\n",
    "X_new_poly = poly.transform(X_new)\n",
    "y_new = model_p.predict(X_new_poly)"
   ]
  },
  {
   "cell_type": "code",
   "execution_count": 29,
   "metadata": {},
   "outputs": [
    {
     "ename": "NameError",
     "evalue": "name 'y_new' is not defined",
     "output_type": "error",
     "traceback": [
      "\u001b[1;31m---------------------------------------------------------------------------\u001b[0m",
      "\u001b[1;31mNameError\u001b[0m                                 Traceback (most recent call last)",
      "\u001b[1;32md:\\Coding\\Learn_Python\\Python Notebook\\Polynomial_2D_Regression.ipynb Cell 21\u001b[0m line \u001b[0;36m1\n\u001b[1;32m----> <a href='vscode-notebook-cell:/d%3A/Coding/Learn_Python/Python%20Notebook/Polynomial_2D_Regression.ipynb#X26sZmlsZQ%3D%3D?line=0'>1</a>\u001b[0m plt\u001b[39m.\u001b[39mplot(X_new, y_new, \u001b[39m\"\u001b[39m\u001b[39mr-\u001b[39m\u001b[39m\"\u001b[39m, linewidth \u001b[39m=\u001b[39m \u001b[39m2\u001b[39m, label \u001b[39m=\u001b[39m \u001b[39m\"\u001b[39m\u001b[39mPredictions\u001b[39m\u001b[39m\"\u001b[39m)\n\u001b[0;32m      <a href='vscode-notebook-cell:/d%3A/Coding/Learn_Python/Python%20Notebook/Polynomial_2D_Regression.ipynb#X26sZmlsZQ%3D%3D?line=1'>2</a>\u001b[0m plt\u001b[39m.\u001b[39mscatter(X,y, label \u001b[39m=\u001b[39m \u001b[39m\"\u001b[39m\u001b[39mTraing Points\u001b[39m\u001b[39m\"\u001b[39m)\n\u001b[0;32m      <a href='vscode-notebook-cell:/d%3A/Coding/Learn_Python/Python%20Notebook/Polynomial_2D_Regression.ipynb#X26sZmlsZQ%3D%3D?line=2'>3</a>\u001b[0m plt\u001b[39m.\u001b[39mxlabel(\u001b[39m\"\u001b[39m\u001b[39mX\u001b[39m\u001b[39m\"\u001b[39m)\n",
      "\u001b[1;31mNameError\u001b[0m: name 'y_new' is not defined"
     ]
    }
   ],
   "source": [
    "plt.plot(X_new, y_new, \"r-\", linewidth = 2, label = \"Predictions\")\n",
    "plt.scatter(X,y, label = \"Traing Points\")\n",
    "plt.xlabel(\"X\")\n",
    "plt.ylabel(\"y\")\n",
    "plt.legend()\n",
    "plt.show()"
   ]
  },
  {
   "cell_type": "code",
   "execution_count": null,
   "metadata": {},
   "outputs": [],
   "source": []
  }
 ],
 "metadata": {
  "kernelspec": {
   "display_name": "Python 3",
   "language": "python",
   "name": "python3"
  },
  "language_info": {
   "codemirror_mode": {
    "name": "ipython",
    "version": 3
   },
   "file_extension": ".py",
   "mimetype": "text/x-python",
   "name": "python",
   "nbconvert_exporter": "python",
   "pygments_lexer": "ipython3",
   "version": "3.12.0"
  }
 },
 "nbformat": 4,
 "nbformat_minor": 2
}
